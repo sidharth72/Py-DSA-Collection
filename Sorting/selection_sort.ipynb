{
 "cells": [
  {
   "cell_type": "markdown",
   "metadata": {},
   "source": [
    "# Selection Sort: A Visual Guide\n",
    "\n",
    "## What is Selection Sort?\n",
    "\n",
    "Selection sort is a simple sorting algorithm that repeatedly selects the smallest (or largest) element from the unsorted portion of the list and moves it to the sorted portion of the list.\n",
    "\n",
    "## The Athletic Team Analogy\n",
    "\n",
    "Imagine you're a coach forming a line-up for a race:\n",
    "\n",
    "1. You look at all the athletes and select the fastest one.\n",
    "2. You put this athlete at the front of the line.\n",
    "3. From the remaining athletes, you again select the fastest.\n",
    "4. You put this athlete second in line.\n",
    "5. You repeat this process until all athletes are lined up.\n",
    "\n",
    "This is exactly how selection sort works!\n",
    "\n",
    "## Visual Representation\n",
    "\n",
    "Let's sort this list of numbers: [64, 25, 12, 22, 11]\n",
    "\n",
    "Pass 1: [11, 25, 12, 22, 64]\n",
    "         ↑\n",
    "         Smallest element (11) is selected and swapped with the first element\n",
    "\n",
    "Pass 2: [11, 12, 25, 22, 64]\n",
    "             ↑\n",
    "             Smallest remaining element (12) is selected and swapped with the second element\n",
    "\n",
    "Pass 3: [11, 12, 22, 25, 64]\n",
    "                 ↑\n",
    "                 Smallest remaining element (22) is selected and swapped with the third element\n",
    "\n",
    "Pass 4: [11, 12, 22, 25, 64]\n",
    "                     ↑\n",
    "                     Smallest remaining element (25) is already in the correct position\n",
    "\n",
    "Pass 5: [11, 12, 22, 25, 64]\n",
    "                         ↑\n",
    "                         Last element (64) is already in the correct position\n",
    "\n",
    "Final sorted array: [11, 12, 22, 25, 64]\n",
    "\n",
    "## How Selection Sort Works\n",
    "\n",
    "1. Start with the first element of the array.\n",
    "2. Search the entire array to find the smallest value.\n",
    "3. Swap this value with the first element.\n",
    "4. Move to the second position and repeat steps 2-3 for the remaining unsorted portion of the array.\n",
    "5. Continue this process until the entire array is sorted.\n",
    "\n",
    "## Key Points\n",
    "\n",
    "1. The array is virtually split into a sorted portion (at the beginning) and an unsorted portion.\n",
    "2. In every iteration, the minimum element from the unsorted portion is picked and moved to the sorted portion.\n",
    "3. Unlike bubble sort, the number of swaps in selection sort is at most n-1, where n is the number of elements.\n",
    "\n",
    "## Efficiency\n",
    "\n",
    "- Best case, Average case, and Worst case: O(n^2)\n",
    "- It performs the same number of comparisons regardless of the initial order of the array\n",
    "- It makes fewer swaps compared to bubble sort\n",
    "\n",
    "## Real-world Application\n",
    "\n",
    "Selection sort is used:\n",
    "- When memory write is a costly operation (it makes at most n swaps)\n",
    "- For small arrays where simplicity is more important than efficiency\n",
    "- As a part of more complex algorithms\n",
    "\n",
    "## Fun Fact\n",
    "\n",
    "Selection sort is an in-place sorting algorithm, meaning it doesn't require extra space proportional to the input size. It sorts the array by modifying the original array!"
   ]
  },
  {
   "cell_type": "code",
   "execution_count": 1,
   "metadata": {},
   "outputs": [
    {
     "name": "stdout",
     "output_type": "stream",
     "text": [
      "[1, 2, 3, 4, 5, 8]\n"
     ]
    }
   ],
   "source": [
    "arr = [5, 8, 1, 3, 4, 2]\n",
    "\n",
    "for i in range(len(arr)):\n",
    "    minpos = i # Assuming i as the minimum position\n",
    "\n",
    "    # Check if any other value ahead is smaller than minpos\n",
    "    for j in range(i + 1, len(arr)):\n",
    "        if arr[j] < arr[minpos]:\n",
    "            minpos = j # Update the minpos\n",
    "\n",
    "    # Swap the minpos and i where minpos is placed correct position\n",
    "    # In the sorted list\n",
    "    arr[minpos], arr[i] = arr[i], arr[minpos]\n",
    "\n",
    "\n",
    "print(arr)"
   ]
  },
  {
   "cell_type": "code",
   "execution_count": null,
   "metadata": {},
   "outputs": [],
   "source": []
  }
 ],
 "metadata": {
  "kernelspec": {
   "display_name": "ds",
   "language": "python",
   "name": "python3"
  },
  "language_info": {
   "codemirror_mode": {
    "name": "ipython",
    "version": 3
   },
   "file_extension": ".py",
   "mimetype": "text/x-python",
   "name": "python",
   "nbconvert_exporter": "python",
   "pygments_lexer": "ipython3",
   "version": "3.11.6"
  }
 },
 "nbformat": 4,
 "nbformat_minor": 2
}
