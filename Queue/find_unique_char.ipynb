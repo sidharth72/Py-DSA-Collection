{
 "cells": [
  {
   "cell_type": "markdown",
   "metadata": {},
   "source": [
    "# Finding First Unique Character: The Theme Park Ride Story 🎡\n",
    "\n",
    "## The Theme Park Analogy\n",
    "Imagine a special ride where:\n",
    "- People line up (that's our Queue!)\n",
    "- Each person wears a colored shirt\n",
    "- We need to find the first person wearing a unique colored shirt\n",
    "\n",
    "## How It Works (Two-Pass Method)\n",
    "\n",
    "### First Pass: Count Colors (Frequency Map)\n",
    "- Walk past the line\n",
    "- Count how many people wear each color\n",
    "- Like taking attendance of shirt colors!\n",
    "Example:\n",
    "String \"leetcode\"\n",
    "l: 1, e: 3, t: 1, c: 1, o: 1, d: 1\n",
    "\n",
    "### Second Pass: Find First Unique\n",
    "- Check each person in order\n",
    "- Look up their shirt color count\n",
    "- First person with count 1 is our answer!\n",
    "- Just like finding first person with unique shirt\n",
    "\n",
    "## Queue's Role\n",
    "- Maintains original order of characters\n",
    "- Perfect for \"first occurrence\" problems\n",
    "- Like keeping track of who came first!\n",
    "\n",
    "## Process Example\n",
    "Input: \"leetcode\"\n",
    "\n",
    "1. Count Phase:\n",
    "  - Count all characters\n",
    "  - Store in frequency map\n",
    "  - Like taking color inventory\n",
    "\n",
    "2. Find Phase:\n",
    "  - Start from beginning\n",
    "  - Check each character's count\n",
    "  - Find first with count 1\n",
    "  - Answer: 'l' (first character with count 1)\n",
    "\n",
    "## Why Queue is Perfect Here\n",
    "1. Maintains Order:\n",
    "  - Original sequence preserved\n",
    "  - First occurrence stays first\n",
    "  - Like keeping line order intact\n",
    "\n",
    "2. Efficient Access:\n",
    "  - O(1) to check next character\n",
    "  - Like checking next person in line\n",
    "\n",
    "Remember: Just like finding the first person with a unique shirt color in a theme park line, we use a queue to track the original order while finding our unique character! 🎡"
   ]
  },
  {
   "cell_type": "code",
   "execution_count": 5,
   "metadata": {},
   "outputs": [
    {
     "name": "stdout",
     "output_type": "stream",
     "text": [
      "The unique character is: w\n"
     ]
    }
   ],
   "source": [
    "from collections import deque\n",
    "\n",
    "string = \"swiss\"\n",
    "queue = deque() # Creating a double ended queue\n",
    "char_count = {}\n",
    "\n",
    "for char in string:\n",
    "\n",
    "    # Counting the freq of each char and storing in a dict.\n",
    "    char_count[char] = char_count.get(char, 0) + 1\n",
    "\n",
    "    # If the count of char is 1, that means it is unique\n",
    "    # So we can add that to the queue,\n",
    "    if char_count[char] == 1:\n",
    "        queue.append(char)\n",
    "\n",
    "\n",
    "    # If there is any char count which is greater than 1,\n",
    "    # It means, the char we considered as unique\n",
    "    # Is no longer unique, so we can pop it from the queue,\n",
    "    # The first character in the queue if exists will\n",
    "    # always be the first unique char,\n",
    "    while queue and char_count[queue[0]] > 1:\n",
    "        queue.popleft()\n",
    "\n",
    "unique = queue[0] if queue else None\n",
    "\n",
    "print(\"The unique character is:\", unique)\n"
   ]
  },
  {
   "cell_type": "code",
   "execution_count": null,
   "metadata": {},
   "outputs": [],
   "source": []
  }
 ],
 "metadata": {
  "kernelspec": {
   "display_name": "ds",
   "language": "python",
   "name": "python3"
  },
  "language_info": {
   "codemirror_mode": {
    "name": "ipython",
    "version": 3
   },
   "file_extension": ".py",
   "mimetype": "text/x-python",
   "name": "python",
   "nbconvert_exporter": "python",
   "pygments_lexer": "ipython3",
   "version": "3.11.6"
  }
 },
 "nbformat": 4,
 "nbformat_minor": 2
}
