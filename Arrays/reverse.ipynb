{
 "cells": [
  {
   "cell_type": "code",
   "execution_count": 3,
   "metadata": {},
   "outputs": [
    {
     "name": "stdout",
     "output_type": "stream",
     "text": [
      "[3, 9, 6, 4]\n"
     ]
    }
   ],
   "source": [
    "# Reversing an array\n",
    "\n",
    "arr = [4, 6, 9, 3]\n",
    "\n",
    "start = 0\n",
    "end = len(arr) - 1\n",
    "\n",
    "while start < end:\n",
    "    arr[start], arr[end] = arr[end], arr[start]\n",
    "    start += 1\n",
    "    end -= 1\n",
    "\n",
    "print(arr)"
   ]
  },
  {
   "cell_type": "code",
   "execution_count": null,
   "metadata": {},
   "outputs": [],
   "source": []
  }
 ],
 "metadata": {
  "kernelspec": {
   "display_name": "ds",
   "language": "python",
   "name": "python3"
  },
  "language_info": {
   "codemirror_mode": {
    "name": "ipython",
    "version": 3
   },
   "file_extension": ".py",
   "mimetype": "text/x-python",
   "name": "python",
   "nbconvert_exporter": "python",
   "pygments_lexer": "ipython3",
   "version": "3.11.6"
  }
 },
 "nbformat": 4,
 "nbformat_minor": 2
}
