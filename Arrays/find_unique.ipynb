{
 "cells": [
  {
   "cell_type": "markdown",
   "metadata": {},
   "source": [
    "### **1. Finding Unique Values Directly**"
   ]
  },
  {
   "cell_type": "code",
   "execution_count": 1,
   "metadata": {},
   "outputs": [
    {
     "name": "stdout",
     "output_type": "stream",
     "text": [
      "5\n",
      "1\n",
      "4\n"
     ]
    }
   ],
   "source": [
    "arr = [6, 2, 5, 8, 1, 2, 6, 8, 4]\n",
    "\n",
    "for i in range(len(arr)):\n",
    "    is_unique = True\n",
    "    for j in range(len(arr)):\n",
    "        if i != j and arr[i] == arr[j]:\n",
    "            is_unique = False\n",
    "\n",
    "    if is_unique:\n",
    "        print(arr[i])\n",
    "\n"
   ]
  },
  {
   "cell_type": "markdown",
   "metadata": {},
   "source": [
    "### **2. Finding Unique Values Using set**"
   ]
  },
  {
   "cell_type": "code",
   "execution_count": 10,
   "metadata": {},
   "outputs": [
    {
     "name": "stdout",
     "output_type": "stream",
     "text": [
      "[1, 4, 5]\n"
     ]
    }
   ],
   "source": [
    "arr = [6, 2, 5, 8, 1, 2, 6, 8, 4]\n",
    "\n",
    "s = set()\n",
    "d = set()\n",
    "\n",
    "for element in arr:\n",
    "    if element in s:\n",
    "        # Add duplicates\n",
    "        d.add(element)\n",
    "    else:\n",
    "\n",
    "        # Add rest\n",
    "        s.add(element)\n",
    "\n",
    "# FIdning unique values by set difference\n",
    "unique_values = s.difference(d)\n",
    "print(list(unique_values))"
   ]
  },
  {
   "cell_type": "code",
   "execution_count": null,
   "metadata": {},
   "outputs": [],
   "source": []
  }
 ],
 "metadata": {
  "kernelspec": {
   "display_name": "ds",
   "language": "python",
   "name": "python3"
  },
  "language_info": {
   "codemirror_mode": {
    "name": "ipython",
    "version": 3
   },
   "file_extension": ".py",
   "mimetype": "text/x-python",
   "name": "python",
   "nbconvert_exporter": "python",
   "pygments_lexer": "ipython3",
   "version": "3.11.6"
  }
 },
 "nbformat": 4,
 "nbformat_minor": 2
}
