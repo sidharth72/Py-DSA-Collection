{
 "cells": [
  {
   "cell_type": "markdown",
   "metadata": {},
   "source": [
    "### **Mathematical Way of Finding the Missing Number**"
   ]
  },
  {
   "cell_type": "code",
   "execution_count": 5,
   "metadata": {},
   "outputs": [
    {
     "name": "stdout",
     "output_type": "stream",
     "text": [
      "3\n"
     ]
    }
   ],
   "source": [
    "arr = [1, 2, 4, 5, 6, 7, 8]\n",
    "\n",
    "# Sum of first n natural numbers\n",
    "n = len(arr) + 1\n",
    "\n",
    "expected_sum = n * (n + 1) // 2\n",
    "actual_sum = sum(arr)\n",
    "\n",
    "print(expected_sum - actual_sum)\n"
   ]
  },
  {
   "cell_type": "markdown",
   "metadata": {},
   "source": [
    "### **Using Raw method**"
   ]
  },
  {
   "cell_type": "code",
   "execution_count": 10,
   "metadata": {},
   "outputs": [
    {
     "name": "stdout",
     "output_type": "stream",
     "text": [
      "3\n"
     ]
    }
   ],
   "source": [
    "arr = [1, 2, 4, 5, 6, 7, 8]\n",
    "\n",
    "missing_value = 0\n",
    "for i in range(1, len(arr)):\n",
    "    if arr[i] - arr[i - 1] > 1:\n",
    "        missing_value = arr[i] - 1\n",
    "\n",
    "print(missing_value)\n"
   ]
  },
  {
   "cell_type": "code",
   "execution_count": null,
   "metadata": {},
   "outputs": [],
   "source": []
  }
 ],
 "metadata": {
  "kernelspec": {
   "display_name": "ds",
   "language": "python",
   "name": "python3"
  },
  "language_info": {
   "codemirror_mode": {
    "name": "ipython",
    "version": 3
   },
   "file_extension": ".py",
   "mimetype": "text/x-python",
   "name": "python",
   "nbconvert_exporter": "python",
   "pygments_lexer": "ipython3",
   "version": "3.11.6"
  }
 },
 "nbformat": 4,
 "nbformat_minor": 2
}
