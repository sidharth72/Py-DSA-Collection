{
 "cells": [
  {
   "cell_type": "markdown",
   "metadata": {},
   "source": [
    "# Insertion Sort: A Visual Guide\n",
    "\n",
    "## What is Insertion Sort?\n",
    "\n",
    "Insertion sort is a simple sorting algorithm that builds the final sorted array one item at a time. It's much like arranging a hand of playing cards.\n",
    "\n",
    "## The Card Sorting Analogy\n",
    "\n",
    "Imagine you're playing a card game and you need to sort your hand. Here's how you might do it:\n",
    "\n",
    "1. Start with the first card in your hand. It's already \"sorted\" since it's just one card.\n",
    "2. Take the next card and compare it with the first one.\n",
    "3. If it's smaller, put it before the first card. If it's larger, leave it where it is.\n",
    "4. Now take the third card and find its correct position among the first two cards.\n",
    "5. Continue this process for all remaining cards.\n",
    "\n",
    "This is exactly how insertion sort works!\n",
    "\n",
    "## Visual Representation\n",
    "\n",
    "Let's sort this list of numbers: [5, 2, 4, 6, 1, 3]\n",
    "\n",
    "Step 1: [5] | 2, 4, 6, 1, 3\n",
    "         ↑\n",
    "         Sorted portion\n",
    "\n",
    "Step 2: [2, 5] | 4, 6, 1, 3\n",
    "          ↑\n",
    "          2 is inserted before 5\n",
    "\n",
    "Step 3: [2, 4, 5] | 6, 1, 3\n",
    "            ↑\n",
    "            4 is inserted between 2 and 5\n",
    "\n",
    "Step 4: [2, 4, 5, 6] | 1, 3\n",
    "                 ↑\n",
    "                 6 is already in the right place\n",
    "\n",
    "Step 5: [1, 2, 4, 5, 6] | 3\n",
    "          ↑\n",
    "          1 is inserted at the beginning\n",
    "\n",
    "Step 6: [1, 2, 3, 4, 5, 6]\n",
    "            ↑\n",
    "            3 is inserted between 2 and 4\n",
    "\n",
    "Final sorted array: [1, 2, 3, 4, 5, 6]\n",
    "\n",
    "## Key Points\n",
    "\n",
    "1. The array is virtually split into a sorted portion and an unsorted portion.\n",
    "2. We iterate through the unsorted portion, taking one element at a time.\n",
    "3. We then insert this element into its correct position in the sorted portion.\n",
    "4. This process continues until the entire array is sorted.\n",
    "\n",
    "## Why is it called \"Insertion\" Sort?\n",
    "\n",
    "It's called insertion sort because we're repeatedly inserting elements into their correct positions in the sorted portion of the array.\n",
    "\n",
    "## Efficiency\n",
    "\n",
    "- Best case: O(n) when the array is already sorted\n",
    "- Average and Worst case: O(n^2)\n",
    "- It's efficient for small data sets or nearly sorted data\n",
    "\n",
    "## Real-world Application\n",
    "\n",
    "Insertion sort is often used when:\n",
    "- The array is small\n",
    "- The array is nearly sorted\n",
    "- You're sorting a continuous stream of data (like sorting a hand of cards as you receive them)"
   ]
  },
  {
   "cell_type": "code",
   "execution_count": 1,
   "metadata": {},
   "outputs": [
    {
     "name": "stdout",
     "output_type": "stream",
     "text": [
      "[1, 2, 3, 4, 5, 6]\n"
     ]
    }
   ],
   "source": [
    "arr = [5, 2, 4, 6, 1, 3]\n",
    "\n",
    "for i in range(len(arr)):\n",
    "    key = arr[i]\n",
    "    j = i - 1\n",
    "\n",
    "    while j >= 0 and arr[j] > key:\n",
    "        arr[j + 1] = arr[j] # Shift the elements to the right for the new elemented to be inserted\n",
    "        j = j - 1 # Exploring the next previous elements in the sorted sub array for inserting new element\n",
    "\n",
    "    arr[j + 1] = key\n",
    "\n",
    "\n",
    "print(arr)"
   ]
  },
  {
   "cell_type": "code",
   "execution_count": null,
   "metadata": {},
   "outputs": [],
   "source": []
  }
 ],
 "metadata": {
  "kernelspec": {
   "display_name": "ds",
   "language": "python",
   "name": "python3"
  },
  "language_info": {
   "codemirror_mode": {
    "name": "ipython",
    "version": 3
   },
   "file_extension": ".py",
   "mimetype": "text/x-python",
   "name": "python",
   "nbconvert_exporter": "python",
   "pygments_lexer": "ipython3",
   "version": "3.11.6"
  }
 },
 "nbformat": 4,
 "nbformat_minor": 2
}
