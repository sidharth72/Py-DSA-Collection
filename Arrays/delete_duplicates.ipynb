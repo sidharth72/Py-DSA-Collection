{
 "cells": [
  {
   "cell_type": "markdown",
   "metadata": {},
   "source": [
    "### **1. Deleting Duplicates Directly**"
   ]
  },
  {
   "cell_type": "code",
   "execution_count": 3,
   "metadata": {},
   "outputs": [
    {
     "name": "stdout",
     "output_type": "stream",
     "text": [
      "[5, 3, 8, 2, 4, 7, 9, 1]\n"
     ]
    }
   ],
   "source": [
    "arr = [5, 3, 8, 2, 5, 4, 3, 7, 9, 1]\n",
    "\n",
    "i = 0\n",
    "n = len(arr)\n",
    "\n",
    "while i < n:\n",
    "    j = i + 1\n",
    "\n",
    "    while j < n:\n",
    "\n",
    "        # Check if the j'th value matches with the i'th value\n",
    "        if arr[i] == arr[j]:\n",
    "            # IF yes, then pop the value, and stick on the same index\n",
    "            arr.pop(j)\n",
    "            n -= 1 # Reduce the size of the array\n",
    "        else:\n",
    "            j += 1 # If not, then increment\n",
    "\n",
    "    i += 1\n",
    "\n",
    "\n",
    "print(arr)"
   ]
  },
  {
   "cell_type": "markdown",
   "metadata": {},
   "source": [
    "### **2. Delete Duplicates Using Sets**"
   ]
  },
  {
   "cell_type": "code",
   "execution_count": 4,
   "metadata": {},
   "outputs": [
    {
     "name": "stdout",
     "output_type": "stream",
     "text": [
      "[1, 2, 3, 4, 5, 7, 8, 9]\n"
     ]
    }
   ],
   "source": [
    "# If the order of the array matters, then this is not a good approach\n",
    "\n",
    "arr = [5, 3, 8, 2, 5, 4, 3, 7, 9, 1]\n",
    "\n",
    "unique_elements = set()\n",
    "\n",
    "for element in arr:\n",
    "    unique_elements.add(element)\n",
    "\n",
    "print(list(unique_elements))"
   ]
  },
  {
   "cell_type": "markdown",
   "metadata": {},
   "source": [
    "### **3. Deleting Duplicates Using Dictionary**"
   ]
  },
  {
   "cell_type": "code",
   "execution_count": 5,
   "metadata": {},
   "outputs": [
    {
     "name": "stdout",
     "output_type": "stream",
     "text": [
      "[5, 3, 8, 2, 4, 7, 9, 1]\n"
     ]
    }
   ],
   "source": [
    "arr = [5, 3, 8, 2, 5, 4, 3, 7, 9, 1]\n",
    "\n",
    "unique_dict = {}\n",
    "\n",
    "for item in arr:\n",
    "\n",
    "    # Add items to dictionary, (Duplicates will be automatically ignored as dictionaries does not contains duplicated keys)\n",
    "    unique_dict[item] = True\n",
    "\n",
    "print(list(unique_dict.keys()))\n"
   ]
  },
  {
   "cell_type": "code",
   "execution_count": null,
   "metadata": {},
   "outputs": [],
   "source": []
  }
 ],
 "metadata": {
  "kernelspec": {
   "display_name": "ds",
   "language": "python",
   "name": "python3"
  },
  "language_info": {
   "codemirror_mode": {
    "name": "ipython",
    "version": 3
   },
   "file_extension": ".py",
   "mimetype": "text/x-python",
   "name": "python",
   "nbconvert_exporter": "python",
   "pygments_lexer": "ipython3",
   "version": "3.11.6"
  }
 },
 "nbformat": 4,
 "nbformat_minor": 2
}
