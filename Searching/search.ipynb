{
 "cells": [
  {
   "cell_type": "markdown",
   "metadata": {},
   "source": [
    "# Binary Search vs Linear Search: A Fun Guide 🔍\n",
    "\n",
    "## The Phone Book Analogy 📚\n",
    "Imagine you're trying to find \"Sarah Smith\" in a phone book with 1000 pages. \n",
    "\n",
    "**Linear Search (The Tired Detective)**: \n",
    "- Starts from page 1, checks every single page until finding Sarah\n",
    "- \"Nope, not here... not here... still not here...\" *flips through pages one by one*\n",
    "- If Sarah is on page 999, well... good luck with your finger exercise! 😫\n",
    "\n",
    "**Binary Search (The Smart Detective)**:\n",
    "- Opens the book right in the middle\n",
    "- \"Hmm, I'm at 'M', Sarah 'Smith' must be after this!\"\n",
    "- *Throws away first half of the book*\n",
    "- Repeats with remaining half until finding Sarah\n",
    "- \"Work smarter, not harder!\" 😎\n",
    "\n",
    "It's like the difference between:\n",
    "- Checking every locker in school to find yours (Linear)\n",
    "- Using the locker number to go directly to the right section (Binary)\n",
    "\n",
    "## How Binary Search Actually Works 🎯\n",
    "\n",
    "### Core Concept\n",
    "Binary search is like playing the \"Guess the Number\" game:\n",
    "- \"Is it higher or lower than 50?\"\n",
    "- \"Higher!\"\n",
    "- \"Is it higher or lower than 75?\"\n",
    "- \"Lower!\"\n",
    "- And so on...\n",
    "\n",
    "### Key Requirements 🔑\n",
    "1. The data MUST be sorted (like alphabetically arranged names or ascending numbers)\n",
    "2. You need direct access to the middle element\n",
    "3. You should be able to divide your search space in half\n",
    "\n",
    "### The Process 🔄\n",
    "1. Find the middle element\n",
    "2. Compare target with middle element\n",
    "3. If target found: Victory! 🎉\n",
    "4. If target < middle: Search left half\n",
    "5. If target > middle: Search right half\n",
    "6. Repeat until found or search space is empty\n",
    "\n",
    "### Two Ways to Implement\n",
    "\n",
    "#### 1. Iterative Approach (Using Loop)\n",
    "Think of it as:\n",
    "- Having a start pointer and end pointer\n",
    "- Moving these pointers to shrink the search space\n",
    "- Continuing until pointers meet or cross\n",
    "\n",
    "**Advantages**:\n",
    "- Uses less memory (no stack calls)\n",
    "- Sometimes easier to understand\n",
    "- Better for large datasets\n",
    "\n",
    "#### 2. Recursive Approach (Function Calls Itself)\n",
    "Think of it as:\n",
    "- Breaking the problem into smaller sub-problems\n",
    "- Each time focusing on half the previous size\n",
    "- Like Russian nesting dolls, but with data! 🪆\n",
    "\n",
    "**Advantages**:\n",
    "- Cleaner code\n",
    "- More elegant solution\n",
    "- Follows the natural divide-and-conquer pattern\n",
    "\n",
    "## Time Complexity Analysis 📊\n",
    "\n",
    "### Linear Search\n",
    "- Best Case: O(1) - First element\n",
    "- Worst Case: O(n) - Last element or not found\n",
    "- Average Case: O(n) - Somewhere in middle\n",
    "\n",
    "### Binary Search\n",
    "- Best Case: O(1) - Middle element\n",
    "- Worst Case: O(log n) - Not found\n",
    "- Average Case: O(log n) - Logarithmic time!\n",
    "\n",
    "## Fun Analogy: The Library Game Show! 📺\n",
    "\n",
    "Imagine you're on a game show called \"Find That Book!\" with two contestants:\n",
    "\n",
    "**Contestant 1 (Linear Larry)**:\n",
    "- Strategy: Check every book on every shelf\n",
    "- Host: \"You have 1 million books to search!\"\n",
    "- Larry: *starts sweating profusely* 😰\n",
    "\n",
    "**Contestant 2 (Binary Barry)**:\n",
    "- Strategy: Splits library in half each time\n",
    "- Host: \"Same million books!\"\n",
    "- Barry: \"I'll need at most 20 checks!\" 😎\n",
    "- Everyone: \"How?!\"\n",
    "- Barry: \"log₂(1,000,000) ≈ 20\"\n",
    "\n",
    "The crowd goes wild! Binary Barry wins the show because with just 20 checks, he can find any book in a million books! Meanwhile, Linear Larry is still checking book #1,337... \n",
    "\n",
    "## Real-World Applications 🌍\n",
    "1. Phone contact lists\n",
    "2. Dictionary word lookup\n",
    "3. Finding your favorite song in a sorted playlist\n",
    "4. Looking up words in a physical dictionary\n",
    "5. Finding your target score in a leaderboard\n",
    "\n",
    "## Remember! \n",
    "Binary search is like finding your way in a city:\n",
    "- Linear search is walking down every street\n",
    "- Binary search is using the map and signs to eliminate whole neighborhoods at once\n",
    "\n",
    "Next time someone asks you about binary search, just say: \"It's like finding a word in a dictionary - you don't start from page 1, you start in the middle and eliminate half the pages each time!\" 📚✨"
   ]
  },
  {
   "cell_type": "markdown",
   "metadata": {},
   "source": [
    "### **1. Binary Search Using the Iterative approach**"
   ]
  },
  {
   "cell_type": "code",
   "execution_count": 9,
   "metadata": {},
   "outputs": [
    {
     "name": "stdout",
     "output_type": "stream",
     "text": [
      "[1, 2, 5, 6, 8, 9]\n",
      "Result found at 2\n"
     ]
    }
   ],
   "source": [
    "arr = [5, 8, 2, 9, 1, 6]\n",
    "arr.sort() # For binary search array must be sorted\n",
    "\n",
    "print(arr)\n",
    "\n",
    "def binary_search(arr, left, right, target):\n",
    "\n",
    "    while left <= right:\n",
    "        mid = (left + right) // 2\n",
    "\n",
    "        if arr[mid] == target:\n",
    "            return mid\n",
    "\n",
    "        elif arr[mid] < target:\n",
    "            left = mid + 1\n",
    "\n",
    "        else:\n",
    "            right = mid - 1\n",
    "\n",
    "    return -1\n",
    "\n",
    "target = 5\n",
    "result = binary_search(arr, 0, len(arr) - 1, target)\n",
    "\n",
    "print(f\"Result found at {result}\" if result != -1 else \"Result not found\")"
   ]
  },
  {
   "cell_type": "markdown",
   "metadata": {},
   "source": [
    "### **2. Binary Search Using Recursive Approach**"
   ]
  },
  {
   "cell_type": "code",
   "execution_count": 17,
   "metadata": {},
   "outputs": [
    {
     "name": "stdout",
     "output_type": "stream",
     "text": [
      "[1, 2, 5, 6, 8, 9]\n",
      "Result found at 2\n"
     ]
    }
   ],
   "source": [
    "arr = [5, 8, 2, 9, 1, 6]\n",
    "arr.sort() # For binary search array must be sorted\n",
    "\n",
    "print(arr)\n",
    "\n",
    "def binary_search_recursive(arr, left, right, target):\n",
    "\n",
    "    if left > right:\n",
    "        return -1\n",
    "\n",
    "    mid = (left + right) // 2\n",
    "\n",
    "    if arr[mid] == target:\n",
    "        return mid\n",
    "    elif arr[mid] < target:\n",
    "\n",
    "        # Building the recursive stack for checking the right sub array\n",
    "        return binary_search_recursive(arr, mid + 1, right, target)\n",
    "    else:\n",
    "\n",
    "        # Building the recursive stack for checking the left sub array\n",
    "        return binary_search_recursive(arr, left, mid - 1, target)\n",
    "    \n",
    "\n",
    "target = 5\n",
    "result = binary_search_recursive(arr, 0, len(arr) - 1, target)\n",
    "\n",
    "print(f\"Result found at {result}\" if result != -1 else \"Result not found\")"
   ]
  },
  {
   "cell_type": "code",
   "execution_count": 16,
   "metadata": {},
   "outputs": [
    {
     "data": {
      "text/plain": [
       "2"
      ]
     },
     "execution_count": 16,
     "metadata": {},
     "output_type": "execute_result"
    }
   ],
   "source": [
    "# Linear search straightforward\n",
    "\n",
    "def linear_search(arr, target):\n",
    "\n",
    "    for i in range(len(arr)):\n",
    "        if arr[i] == target:\n",
    "            return i\n",
    "        \n",
    "    return -1\n",
    "\n",
    "\n",
    "linear_search(arr, 5)"
   ]
  },
  {
   "cell_type": "code",
   "execution_count": null,
   "metadata": {},
   "outputs": [],
   "source": []
  }
 ],
 "metadata": {
  "kernelspec": {
   "display_name": "ds",
   "language": "python",
   "name": "python3"
  },
  "language_info": {
   "codemirror_mode": {
    "name": "ipython",
    "version": 3
   },
   "file_extension": ".py",
   "mimetype": "text/x-python",
   "name": "python",
   "nbconvert_exporter": "python",
   "pygments_lexer": "ipython3",
   "version": "3.11.6"
  }
 },
 "nbformat": 4,
 "nbformat_minor": 2
}
