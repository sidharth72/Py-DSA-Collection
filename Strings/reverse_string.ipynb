{
 "cells": [
  {
   "cell_type": "markdown",
   "metadata": {},
   "source": [
    "# Reversing a String Using Two Pointers 🔄\n",
    "\n",
    "## Core Concept\n",
    "Use two pointers - one at start, one at end. Swap characters and move pointers inward until they meet or cross.\n",
    "\n",
    "## Visual Example\n",
    "\n",
    "```\n",
    "\n",
    "\n",
    "\"hello\" -> Reverse -> \"olleh\"\n",
    "Step 1: h e l l o    Step 2: o e l l h    Step 3: o l l e h\n",
    "↑       ↑           ↑     ↑             ↑ ↑\n",
    "start   end         start end           start/end\n",
    "\n",
    "```\n",
    "\n",
    "## Algorithm Steps\n",
    "1. Initialize start = 0, end = length-1\n",
    "2. While start < end:\n",
    "   - Swap characters at start and end\n",
    "   - Increment start\n",
    "   - Decrement end\n",
    "3. Stop when pointers meet/cross\n",
    "\n",
    "## Time: O(n/2) → O(n)\n",
    "## Space: O(1) if in-place\n",
    "\n",
    "Remember: Like closing a book from both ends! 📚"
   ]
  },
  {
   "cell_type": "code",
   "execution_count": 3,
   "metadata": {},
   "outputs": [
    {
     "name": "stdout",
     "output_type": "stream",
     "text": [
      "dlrow olleh\n"
     ]
    }
   ],
   "source": [
    "string = \"hello world\"\n",
    "string_list = list(string)\n",
    "\n",
    "\n",
    "start = 0\n",
    "end = len(string) - 1\n",
    "\n",
    "\n",
    "while start < end:\n",
    "    string_list[start], string_list[end] = string_list[end], string_list[start]\n",
    "    start += 1\n",
    "    end -= 1\n",
    "\n",
    "print(''.join(string_list))\n"
   ]
  },
  {
   "cell_type": "code",
   "execution_count": 4,
   "metadata": {},
   "outputs": [
    {
     "data": {
      "text/plain": [
       "'dlrow olleh'"
      ]
     },
     "execution_count": 4,
     "metadata": {},
     "output_type": "execute_result"
    }
   ],
   "source": [
    "# But python makes it simple as\n",
    "\n",
    "string[::-1]"
   ]
  },
  {
   "cell_type": "code",
   "execution_count": null,
   "metadata": {},
   "outputs": [],
   "source": []
  }
 ],
 "metadata": {
  "kernelspec": {
   "display_name": "ds",
   "language": "python",
   "name": "python3"
  },
  "language_info": {
   "codemirror_mode": {
    "name": "ipython",
    "version": 3
   },
   "file_extension": ".py",
   "mimetype": "text/x-python",
   "name": "python",
   "nbconvert_exporter": "python",
   "pygments_lexer": "ipython3",
   "version": "3.11.6"
  }
 },
 "nbformat": 4,
 "nbformat_minor": 2
}
