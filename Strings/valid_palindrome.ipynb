{
 "cells": [
  {
   "cell_type": "code",
   "execution_count": 2,
   "metadata": {},
   "outputs": [
    {
     "name": "stdout",
     "output_type": "stream",
     "text": [
      "True\n"
     ]
    }
   ],
   "source": [
    "s = \"A man, a plan, a canal: Panama\"\n",
    "s = \"\".join(char.lower() for char in s if char.isalnum())\n",
    "\n",
    "print(s == s[::-1])"
   ]
  },
  {
   "cell_type": "code",
   "execution_count": 8,
   "metadata": {},
   "outputs": [
    {
     "name": "stdout",
     "output_type": "stream",
     "text": [
      "True\n"
     ]
    }
   ],
   "source": [
    "s = \"A man, a plan, a canal: Panama\"\n",
    "\n",
    "start = 0\n",
    "end = len(s) - 1\n",
    "\n",
    "flag = True\n",
    "\n",
    "while start < end:\n",
    "    if not s[start].isalnum():\n",
    "        start += 1\n",
    "        continue\n",
    "\n",
    "    if not s[end].isalnum():\n",
    "        end -= 1\n",
    "        continue\n",
    "\n",
    "    if s[start].lower() != s[end].lower():\n",
    "        flag = False\n",
    "\n",
    "\n"
   ]
  },
  {
   "cell_type": "code",
   "execution_count": null,
   "metadata": {},
   "outputs": [],
   "source": []
  }
 ],
 "metadata": {
  "kernelspec": {
   "display_name": "ds",
   "language": "python",
   "name": "python3"
  },
  "language_info": {
   "codemirror_mode": {
    "name": "ipython",
    "version": 3
   },
   "file_extension": ".py",
   "mimetype": "text/x-python",
   "name": "python",
   "nbconvert_exporter": "python",
   "pygments_lexer": "ipython3",
   "version": "3.11.6"
  }
 },
 "nbformat": 4,
 "nbformat_minor": 2
}
