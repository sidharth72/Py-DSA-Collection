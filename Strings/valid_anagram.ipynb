{
 "cells": [
  {
   "cell_type": "markdown",
   "metadata": {},
   "source": [
    "# Checking Valid Anagrams 🔄\n",
    "\n",
    "## What is an Anagram?\n",
    "Two strings where one is a rearrangement of another\n",
    "- \"listen\" ↔️ \"silent\"\n",
    "- \"triangle\" ↔️ \"integral\"\n",
    "\n",
    "## Two Main Approaches\n",
    "\n",
    "### 1. Sorting Approach\n",
    "\n",
    "\"eat\" -> \"aet\"\n",
    "\"tea\" -> \"aet\"\n",
    "Compare: \"aet\" == \"aet\" ✅\n",
    "\n",
    "- Time: O(n log n)\n",
    "- Space: O(1)\n",
    "\n",
    "### 2. Frequency Counter 🎯\n",
    "\n",
    "\"rat\" -> {r:1, a:1, t:1}\n",
    "\"tar\" -> {t:1, a:1, r:1}\n",
    "Compare: dictionaries match ✅\n",
    "\n",
    "- Time: O(n)\n",
    "- Space: O(1) - max 26 chars\n",
    "\n",
    "## Quick Checks First!\n",
    "1. Different lengths? → Not anagrams ❌\n",
    "2. Same string? → Anagram ✅\n",
    "\n",
    "Think: \"Same ingredients, different arrangement\" 👩‍🍳"
   ]
  },
  {
   "cell_type": "markdown",
   "metadata": {},
   "source": [
    "#### **1. Sorting Approach**"
   ]
  },
  {
   "cell_type": "code",
   "execution_count": 1,
   "metadata": {},
   "outputs": [
    {
     "name": "stdout",
     "output_type": "stream",
     "text": [
      "True\n"
     ]
    }
   ],
   "source": [
    "s1 = \"silent\"\n",
    "s2 = \"listen\"\n",
    "\n",
    "print(sorted(s1) == sorted(s2))"
   ]
  },
  {
   "cell_type": "markdown",
   "metadata": {},
   "source": [
    "#### **2. Frequency Counter**"
   ]
  },
  {
   "cell_type": "code",
   "execution_count": 5,
   "metadata": {},
   "outputs": [
    {
     "name": "stdout",
     "output_type": "stream",
     "text": [
      "True\n"
     ]
    }
   ],
   "source": [
    "s1 = \"silent\"\n",
    "s2 = \"listen\"\n",
    "\n",
    "s1_freq = {k: s1.count(k) for k in s1}\n",
    "s2_freq = {k: s2.count(k) for k in s2}\n",
    "\n",
    "print(s1_freq == s2_freq)"
   ]
  },
  {
   "cell_type": "code",
   "execution_count": null,
   "metadata": {},
   "outputs": [],
   "source": []
  }
 ],
 "metadata": {
  "kernelspec": {
   "display_name": "ds",
   "language": "python",
   "name": "python3"
  },
  "language_info": {
   "codemirror_mode": {
    "name": "ipython",
    "version": 3
   },
   "file_extension": ".py",
   "mimetype": "text/x-python",
   "name": "python",
   "nbconvert_exporter": "python",
   "pygments_lexer": "ipython3",
   "version": "3.11.6"
  }
 },
 "nbformat": 4,
 "nbformat_minor": 2
}
