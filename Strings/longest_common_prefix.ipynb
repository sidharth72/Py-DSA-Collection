{
 "cells": [
  {
   "cell_type": "markdown",
   "metadata": {},
   "source": [
    "# Longest Common Prefix (LCP) 🎯\n",
    "\n",
    "## Problem\n",
    "Find the longest string that is a prefix of ALL strings in array\n",
    "\n",
    "```\n",
    "\n",
    "[\"flower\", \"flow\", \"flight\"] → \"fl\"\n",
    "[\"dog\", \"racecar\", \"car\"] → \"\"\n",
    "[\"interstellar\", \"interview\", \"internal\"] → \"inter\"\n",
    "\n",
    "```\n",
    "\n",
    "## Two Main Approaches\n",
    "\n",
    "### 1. Horizontal Scanning 📏\n",
    "\n",
    "```\n",
    "\n",
    "Compare strings pairwise:\n",
    "\"flower\" + \"flow\" → \"flow\"\n",
    "\"flow\" + \"flight\" → \"fl\"\n",
    "Result: \"fl\"\n",
    "\n",
    "```\n",
    "\n",
    "- Like finding the overlap between words\n",
    "- Time: O(S) where S is sum of all characters\n",
    "\n",
    "### 2. Vertical Scanning ⬇️\n",
    "\n",
    "```\n",
    "f l o w e r\n",
    "f l o w\n",
    "f l i g h t\n",
    "↓ ↓ ✗\n",
    "Take characters until mismatch\n",
    "```\n",
    "\n",
    "- Compare characters column by column\n",
    "- Stop at first mismatch\n",
    "- Time: O(S), but can exit early\n",
    "\n",
    "## Key Points 🔑\n",
    "1. Empty array? → Return \"\"\n",
    "2. Empty string in array? → Return \"\"\n",
    "3. No common prefix? → Return \"\"\n",
    "4. Case sensitive: \"Flower\" ≠ \"flower\"\n",
    "\n",
    "## Quick Optimization 💡\n",
    "- Find shortest string first\n",
    "- Can't have LCP longer than shortest string\n",
    "\n",
    "```\n",
    "[\"flower\", \"flow\", \"flight\"]\n",
    "Shortest = \"flow\" (4 chars)\n",
    "Only need to check first 4 chars\n",
    "```\n",
    "\n",
    "Think: \"Like finding the common start of all words in a rhyme!\" 📚"
   ]
  },
  {
   "cell_type": "code",
   "execution_count": 20,
   "metadata": {},
   "outputs": [
    {
     "name": "stdout",
     "output_type": "stream",
     "text": [
      "fl\n"
     ]
    }
   ],
   "source": [
    "s = [\"flower\", \"flow\", \"flight\"]\n",
    "res = \"\"\n",
    "\n",
    "s.sort()\n",
    "\n",
    "first, last = s[0], s[-1]\n",
    "\n",
    "i = 0\n",
    "while i < len(first) and i < len(last):\n",
    "    if first[i] == last[i]:\n",
    "        res += first[i]\n",
    "    else:\n",
    "        break\n",
    "\n",
    "    i += 1\n",
    "\n",
    "print(res)"
   ]
  },
  {
   "cell_type": "markdown",
   "metadata": {},
   "source": []
  },
  {
   "cell_type": "code",
   "execution_count": 14,
   "metadata": {},
   "outputs": [
    {
     "name": "stdout",
     "output_type": "stream",
     "text": [
      "fl\n"
     ]
    }
   ],
   "source": [
    "s = [\"flower\", \"flow\", \"flight\"]\n",
    "res = \"\"\n",
    "\n",
    "for word in zip(*s):\n",
    "    if len(set(word)) == 1:\n",
    "        res += word[0]\n",
    "\n",
    "print(res)\n"
   ]
  },
  {
   "cell_type": "code",
   "execution_count": null,
   "metadata": {},
   "outputs": [],
   "source": []
  }
 ],
 "metadata": {
  "kernelspec": {
   "display_name": "ds",
   "language": "python",
   "name": "python3"
  },
  "language_info": {
   "codemirror_mode": {
    "name": "ipython",
    "version": 3
   },
   "file_extension": ".py",
   "mimetype": "text/x-python",
   "name": "python",
   "nbconvert_exporter": "python",
   "pygments_lexer": "ipython3",
   "version": "3.11.6"
  }
 },
 "nbformat": 4,
 "nbformat_minor": 2
}
