{
 "cells": [
  {
   "cell_type": "markdown",
   "metadata": {},
   "source": [
    "# Reversing a String with Stacks: A Simple Yet Elegant Solution\n",
    "\n",
    "## The Mailbox Analogy\n",
    "Imagine you have a stack of letters in your mailbox. Each letter represents a character in your string. Now, here's the fun part - you can only take out one letter at a time, and you must take from the top!\n",
    "\n",
    "## How It Works\n",
    "1. The Original Process (Reading Letters)\n",
    "  - You get letters daily (like characters in a string)\n",
    "  - They stack up in your mailbox (first letter at bottom, last on top)\n",
    "  - Example: If \"HELLO\" arrives over 5 days:\n",
    "    * Day 1: H (bottom)\n",
    "    * Day 2: E (above H)\n",
    "    * Day 3: L\n",
    "    * Day 4: L\n",
    "    * Day 5: O (top)\n",
    "\n",
    "2. The Reversal Magic\n",
    "  - Now, you take each letter out (can only take from top)\n",
    "  - As you remove them, you get: O, L, L, E, H\n",
    "  - Voilà! You've just reversed \"HELLO\" to \"OLLEH\"\n",
    "\n",
    "## Why Stack Works Perfectly Here\n",
    "- Stack's LIFO (Last In, First Out) nature naturally reverses order\n",
    "- First character goes in first (like bottom letter)\n",
    "- Last character goes in last (like top letter)\n",
    "- When we remove everything, we get them in reverse order!\n",
    "\n",
    "## Real-world Connection\n",
    "Think of it like a stack of plates with names written on them. To read the names in reverse, you simply pick them up one by one from top to bottom. The last plate you put down becomes the first one you pick up!"
   ]
  },
  {
   "cell_type": "code",
   "execution_count": 3,
   "metadata": {},
   "outputs": [
    {
     "name": "stdout",
     "output_type": "stream",
     "text": [
      "['H', 'e', 'l', 'l', 'o', ' ', 'W', 'o', 'r', 'l', 'd']\n",
      "dlroW olleH\n"
     ]
    }
   ],
   "source": [
    "class Stack:\n",
    "\n",
    "    def __init__(self):\n",
    "        self.items = []\n",
    "\n",
    "    def is_empty(self):\n",
    "        return len(self.items) == 0\n",
    "\n",
    "    def push(self, item):\n",
    "        self.items.append(item)\n",
    "\n",
    "    def pop(self):\n",
    "        if not self.items is None:\n",
    "            return self.items.pop()\n",
    "\n",
    "        else:\n",
    "            raise IndexError(\"Pop from an empty stack\")\n",
    "\n",
    "    def peek(self):\n",
    "\n",
    "        if not self.items is None:\n",
    "            return self.items[-1]\n",
    "        else:\n",
    "            raise IndexError(\"Peeking from an empty stack is not possible\")\n",
    "\n",
    "    def size(self):\n",
    "        return len(self.items)\n",
    "\n",
    " \n",
    "stack = Stack()\n",
    "\n",
    "string = \"Hello World\"\n",
    "\n",
    "for c in string:\n",
    "    stack.push(c)\n",
    "\n",
    "print(stack.items)\n",
    "\n",
    "reversed_string = \"\"\n",
    "for c in string:\n",
    "    reversed_string += stack.pop()\n",
    "\n",
    "print(reversed_string)\n"
   ]
  },
  {
   "cell_type": "code",
   "execution_count": null,
   "metadata": {},
   "outputs": [],
   "source": []
  }
 ],
 "metadata": {
  "kernelspec": {
   "display_name": "ds",
   "language": "python",
   "name": "python3"
  },
  "language_info": {
   "codemirror_mode": {
    "name": "ipython",
    "version": 3
   },
   "file_extension": ".py",
   "mimetype": "text/x-python",
   "name": "python",
   "nbconvert_exporter": "python",
   "pygments_lexer": "ipython3",
   "version": "3.11.6"
  }
 },
 "nbformat": 4,
 "nbformat_minor": 2
}
